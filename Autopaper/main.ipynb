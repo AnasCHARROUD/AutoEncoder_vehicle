{
 "cells": [
  {
   "cell_type": "code",
   "execution_count": 7,
   "id": "92522b97",
   "metadata": {},
   "outputs": [],
   "source": [
    "import warnings\n",
    "import pandas as pd\n",
    "from Methods1 import *\n",
    "import time\n",
    "import os\n",
    "import kittiwrapper,util\n",
    "import torch.nn.functional as F\n",
    "import torch\n",
    "import torch.nn as nn\n",
    "import matplotlib.pyplot as plt\n",
    "from tqdm.notebook import tqdm"
   ]
  },
  {
   "cell_type": "code",
   "execution_count": 2,
   "id": "65e60c15",
   "metadata": {},
   "outputs": [],
   "source": [
    "\n",
    "def plot_training_error(loss, loss1, bloss):\n",
    "    # Create a new figure and set the title\n",
    "    fig, ax = plt.subplots()\n",
    "    ax.set_title('Training Error')\n",
    "\n",
    "    # Plot the three loss curves on the same axis\n",
    "    ax.plot(loss, label='Reconstruction Loss')\n",
    "    ax.plot(loss1, label='Latent Space Loss')\n",
    "    ax.plot(bloss, label='Overall Loss')\n",
    "\n",
    "    # Set the axis labels and legend\n",
    "    ax.set_xlabel('Epoch')\n",
    "    ax.set_ylabel('Loss')\n",
    "    ax.legend()\n",
    "    \n",
    "    # Show the plot\n",
    "    plt.show()\n"
   ]
  },
  {
   "cell_type": "code",
   "execution_count": 4,
   "id": "555b943f",
   "metadata": {},
   "outputs": [],
   "source": [
    "file='/home/anas/Desktop/PHD/my essai/Kitti dataset/City' #[long (2011_10_03,27) ,Residence, Campus-8, Person-8, Road, City]\n",
    "seque = ['00','05','06','07','08','09','10']\n",
    "seq = 13\n",
    "date =['2011_10_03', '2011_09_30', '2011_09_30', '2011_09_30', '2011_09_30','2011_09_30', '2011_09_30']\n",
    "drive=['0027', '0018','0020', '0027', '0028', '0033', '0034']\n",
    "date1 = ['2013-04-05','2013-01-10', '2012-12-01', '2012-01-08', '2012-06-15', '2012-04-29', '2012-02-04']"
   ]
  },
  {
   "cell_type": "code",
   "execution_count": 9,
   "id": "b59d47bb",
   "metadata": {},
   "outputs": [
    {
     "data": {
      "application/vnd.jupyter.widget-view+json": {
       "model_id": "20a2b4b3c0fb49d69410e37e818e559d",
       "version_major": 2,
       "version_minor": 0
      },
      "text/plain": [
       "  0%|          | 0/7 [00:00<?, ?it/s]"
      ]
     },
     "metadata": {},
     "output_type": "display_data"
    },
    {
     "data": {
      "application/vnd.jupyter.widget-view+json": {
       "model_id": "1007643fccae48e7b2cea5a999f34751",
       "version_major": 2,
       "version_minor": 0
      },
      "text/plain": [
       "  0%|          | 0/20901 [00:00<?, ?it/s]"
      ]
     },
     "metadata": {},
     "output_type": "display_data"
    },
    {
     "data": {
      "application/vnd.jupyter.widget-view+json": {
       "model_id": "5e0b8ba47fa04a119c2584ca1b2a6fb0",
       "version_major": 2,
       "version_minor": 0
      },
      "text/plain": [
       "  0%|          | 0/5120 [00:00<?, ?it/s]"
      ]
     },
     "metadata": {},
     "output_type": "display_data"
    },
    {
     "data": {
      "application/vnd.jupyter.widget-view+json": {
       "model_id": "849f4c2b26ea4c8cab0bcf67d4b67944",
       "version_major": 2,
       "version_minor": 0
      },
      "text/plain": [
       "  0%|          | 0/23016 [00:00<?, ?it/s]"
      ]
     },
     "metadata": {},
     "output_type": "display_data"
    },
    {
     "data": {
      "application/vnd.jupyter.widget-view+json": {
       "model_id": "6dede99e7f564aa891a0dcfea3b71418",
       "version_major": 2,
       "version_minor": 0
      },
      "text/plain": [
       "  0%|          | 0/28127 [00:00<?, ?it/s]"
      ]
     },
     "metadata": {},
     "output_type": "display_data"
    },
    {
     "data": {
      "application/vnd.jupyter.widget-view+json": {
       "model_id": "0de604d9562c4a00b9d80779daf082d7",
       "version_major": 2,
       "version_minor": 0
      },
      "text/plain": [
       "  0%|          | 0/16545 [00:00<?, ?it/s]"
      ]
     },
     "metadata": {},
     "output_type": "display_data"
    },
    {
     "data": {
      "application/vnd.jupyter.widget-view+json": {
       "model_id": "98e60c0c986d466cbe1ca0236c40e286",
       "version_major": 2,
       "version_minor": 0
      },
      "text/plain": [
       "  0%|          | 0/12971 [00:00<?, ?it/s]"
      ]
     },
     "metadata": {},
     "output_type": "display_data"
    },
    {
     "data": {
      "application/vnd.jupyter.widget-view+json": {
       "model_id": "fc1ee1709a8244c0b04599a19a99460d",
       "version_major": 2,
       "version_minor": 0
      },
      "text/plain": [
       "  0%|          | 0/23506 [00:00<?, ?it/s]"
      ]
     },
     "metadata": {},
     "output_type": "display_data"
    },
    {
     "data": {
      "text/plain": [
       "\"for i in range(len(date)):\\n    sequence ,T_w_velo, T_w_velo_gt = handling_data(os.path.join(file,seque[i]),seq,date[i],drive[i])\\n    T_w_velo_gt = util.ht2xyp(T_w_velo_gt)\\n    T_w_velo_gt = T_w_velo_gt[:,:2]\\n    n = len(sequence.poses)\\n    features = features_extraction_Kitti(n,sequence,T_w_velo,5,'fkm')\\n    all_features.append(features)\\n    real_poses.append(T_w_velo_gt)\""
      ]
     },
     "execution_count": 9,
     "metadata": {},
     "output_type": "execute_result"
    }
   ],
   "source": [
    "all_features = []\n",
    "real_poses = []\n",
    "i=0\n",
    "for ele in tqdm(date1):\n",
    "    if(i == 0):\n",
    "        features, T_w_r_gt = features_extraction_NCLT(ele, model = 'fkm' ,nodes_number = 5, var = -0.5)\n",
    "        all_features.append(features)\n",
    "        T_w_r_gt = util.ht2xyp(T_w_r_gt)\n",
    "        T_w_r_gt = T_w_r_gt[:,:2]\n",
    "        real_poses.append(T_w_r_gt)\n",
    "        i=10\n",
    "    else:\n",
    "        features, T_w_r_gt = features_extraction_NCLT(ele, model = 'fkm' ,nodes_number = 5, var = -0.9)\n",
    "        all_features.append(features)\n",
    "        T_w_r_gt = util.ht2xyp(T_w_r_gt)\n",
    "        T_w_r_gt = T_w_r_gt[:,:2]\n",
    "        real_poses.append(T_w_r_gt)\n",
    "'''for i in range(len(date)):\n",
    "    sequence ,T_w_velo, T_w_velo_gt = handling_data(os.path.join(file,seque[i]),seq,date[i],drive[i])\n",
    "    T_w_velo_gt = util.ht2xyp(T_w_velo_gt)\n",
    "    T_w_velo_gt = T_w_velo_gt[:,:2]\n",
    "    n = len(sequence.poses)\n",
    "    features = features_extraction_Kitti(n,sequence,T_w_velo,5,'fkm')\n",
    "    all_features.append(features)\n",
    "    real_poses.append(T_w_velo_gt)'''"
   ]
  },
  {
   "cell_type": "code",
   "execution_count": 10,
   "id": "14a869c3",
   "metadata": {},
   "outputs": [
    {
     "name": "stderr",
     "output_type": "stream",
     "text": [
      "/tmp/ipykernel_4320/1615842482.py:4: VisibleDeprecationWarning: Creating an ndarray from ragged nested sequences (which is a list-or-tuple of lists-or-tuples-or ndarrays with different lengths or shapes) is deprecated. If you meant to do this, you must specify 'dtype=object' when creating the ndarray.\n",
      "  data = np.concatenate(np.asarray(k))\n",
      "/tmp/ipykernel_4320/1615842482.py:8: VisibleDeprecationWarning: Creating an ndarray from ragged nested sequences (which is a list-or-tuple of lists-or-tuples-or ndarrays with different lengths or shapes) is deprecated. If you meant to do this, you must specify 'dtype=object' when creating the ndarray.\n",
      "  truth = prelimination(np.asarray(real_poses).shape[0],np.asarray(real_poses))\n"
     ]
    },
    {
     "data": {
      "application/vnd.jupyter.widget-view+json": {
       "model_id": "ac80efff28de481cb1374580baf55924",
       "version_major": 2,
       "version_minor": 0
      },
      "text/plain": [
       "  0%|          | 0/7 [00:00<?, ?it/s]"
      ]
     },
     "metadata": {},
     "output_type": "display_data"
    }
   ],
   "source": [
    "k = []\n",
    "for ele in all_features:\n",
    "    k.append(np.vstack(ele))\n",
    "data = np.concatenate(np.asarray(k))\n",
    "data = data.reshape((int(data.shape[0]/5),5,3))\n",
    "data1 = np.mean(data[:], axis = 1)\n",
    "data2 = np.concatenate((data, np.expand_dims(data1 , axis=1)), axis=1)\n",
    "truth = prelimination(np.asarray(real_poses).shape[0],np.asarray(real_poses))"
   ]
  },
  {
   "cell_type": "markdown",
   "id": "663bd8fa",
   "metadata": {},
   "source": [
    "# Autoencoder"
   ]
  },
  {
   "cell_type": "markdown",
   "id": "594c1cf4",
   "metadata": {},
   "source": [
    "## Def :\n",
    "An autoencoder is a neural network that is trained to reconstruct its inputs. It consists of two parts: an encoder, which maps the input data to a hidden representation, and a decoder, which maps the hidden representation back to the original data space. Autoencoders can be used for dimensionality reduction, feature learning, and denoising, among other tasks."
   ]
  },
  {
   "cell_type": "markdown",
   "id": "e3cf8e58",
   "metadata": {},
   "source": [
    "## Sparsity:\n",
    "One way to modify an autoencoder is to add sparsity constraints, which encourage the hidden representation to have a low number of non-zero elements. This can be achieved by adding an additional term to the loss function that penalizes the number of non-zero elements in the hidden representation."
   ]
  },
  {
   "cell_type": "markdown",
   "id": "3546b706",
   "metadata": {},
   "source": [
    "## Diversity:\n",
    "To add diversity constraints to the autoencoder, you can encourage the hidden representation to be as different as possible from one another. This can be achieved by adding an additional term to the loss function that measures the similarity between hidden representations. For example, you could use the L2 distance between hidden representations as a measure of their similarity."
   ]
  },
  {
   "cell_type": "code",
   "execution_count": 57,
   "id": "5a26e6c3",
   "metadata": {},
   "outputs": [],
   "source": [
    "features1s = np.transpose(data2,axes=(0,2,1))[:,:2,:]\n",
    "features1s = torch.from_numpy(features1s).float()"
   ]
  },
  {
   "cell_type": "code",
   "execution_count": 58,
   "id": "595607d0",
   "metadata": {},
   "outputs": [],
   "source": [
    "T_w_velo_gt1s = np.expand_dims(truth, axis = -1)\n",
    "T_w_velo_gt1s = torch.from_numpy(T_w_velo_gt1s).float()"
   ]
  },
  {
   "cell_type": "code",
   "execution_count": 59,
   "id": "b1093a4d",
   "metadata": {},
   "outputs": [],
   "source": [
    "# Create the autoencoder model\n",
    "input_size = 6\n",
    "hidden_size = 1"
   ]
  },
  {
   "cell_type": "code",
   "execution_count": 60,
   "id": "3d5589b5",
   "metadata": {},
   "outputs": [],
   "source": [
    "\n",
    "class SparsediversityAutoencoder(nn.Module):\n",
    "    def __init__(self, input_size, hidden_size, sparsity_weight=1e-4, diversity_weight=1e-4):\n",
    "        super(SparsediversityAutoencoder, self).__init__()\n",
    "        self.encoder = nn.Linear(input_size, hidden_size)\n",
    "        self.decoder = nn.Linear(hidden_size, input_size)\n",
    "        self.sparsity_weight = sparsity_weight\n",
    "        self.diversity_weight = diversity_weight\n",
    "\n",
    "    def forward(self, x):\n",
    "        # Encode the input data\n",
    "        encoded = self.encoder(x)\n",
    "        # Compute the sparsity and diversity penalty\n",
    "        sparsity_penalty = self.sparsity_weight * torch.sum(encoded != 0)\n",
    "        diversity_penalty = self.diversity_weight * torch.mean(torch.norm(encoded, dim=1))\n",
    "        # Decode the hidden representation\n",
    "        decoded = self.decoder(encoded)\n",
    "        return encoded, decoded, sparsity_penalty, diversity_penalty"
   ]
  },
  {
   "cell_type": "code",
   "execution_count": 67,
   "id": "93e484e6",
   "metadata": {},
   "outputs": [],
   "source": [
    "from bayes_opt import BayesianOptimization\n",
    "from skopt import gp_minimize\n",
    "import random"
   ]
  },
  {
   "cell_type": "code",
   "execution_count": 98,
   "id": "87b5f98d",
   "metadata": {},
   "outputs": [
    {
     "name": "stdout",
     "output_type": "stream",
     "text": [
      "|   iter    |  target   |   alpha   |\n",
      "-------------------------------------\n",
      "| \u001b[0m1        \u001b[0m | \u001b[0m-2.259   \u001b[0m | \u001b[0m0.1873   \u001b[0m |\n",
      "| \u001b[0m2        \u001b[0m | \u001b[0m-2.645   \u001b[0m | \u001b[0m0.4754   \u001b[0m |\n",
      "| \u001b[95m3        \u001b[0m | \u001b[95m-2.008   \u001b[0m | \u001b[95m0.366    \u001b[0m |\n",
      "| \u001b[95m4        \u001b[0m | \u001b[95m-1.933   \u001b[0m | \u001b[95m0.2993   \u001b[0m |\n",
      "| \u001b[95m5        \u001b[0m | \u001b[95m-1.496   \u001b[0m | \u001b[95m0.07801  \u001b[0m |\n",
      "| \u001b[95m6        \u001b[0m | \u001b[95m-1.178   \u001b[0m | \u001b[95m0.078    \u001b[0m |\n",
      "| \u001b[95m7        \u001b[0m | \u001b[95m-1.11    \u001b[0m | \u001b[95m0.02904  \u001b[0m |\n",
      "| \u001b[0m8        \u001b[0m | \u001b[0m-2.723   \u001b[0m | \u001b[0m0.4331   \u001b[0m |\n",
      "| \u001b[0m9        \u001b[0m | \u001b[0m-1.816   \u001b[0m | \u001b[0m0.3006   \u001b[0m |\n",
      "| \u001b[0m10       \u001b[0m | \u001b[0m-2.613   \u001b[0m | \u001b[0m0.354    \u001b[0m |\n",
      "| \u001b[95m11       \u001b[0m | \u001b[95m-0.9263  \u001b[0m | \u001b[95m0.01029  \u001b[0m |\n",
      "| \u001b[0m12       \u001b[0m | \u001b[0m-2.535   \u001b[0m | \u001b[0m0.485    \u001b[0m |\n",
      "| \u001b[0m13       \u001b[0m | \u001b[0m-2.212   \u001b[0m | \u001b[0m0.4162   \u001b[0m |\n",
      "| \u001b[0m14       \u001b[0m | \u001b[0m-1.327   \u001b[0m | \u001b[0m0.1062   \u001b[0m |\n",
      "| \u001b[0m15       \u001b[0m | \u001b[0m-1.702   \u001b[0m | \u001b[0m0.09091  \u001b[0m |\n",
      "| \u001b[0m16       \u001b[0m | \u001b[0m-1.354   \u001b[0m | \u001b[0m0.02908  \u001b[0m |\n",
      "| \u001b[0m17       \u001b[0m | \u001b[0m-1.861   \u001b[0m | \u001b[0m0.01026  \u001b[0m |\n",
      "| \u001b[0m18       \u001b[0m | \u001b[0m-2.112   \u001b[0m | \u001b[0m0.01031  \u001b[0m |\n",
      "| \u001b[0m19       \u001b[0m | \u001b[0m-1.629   \u001b[0m | \u001b[0m0.07798  \u001b[0m |\n",
      "| \u001b[0m20       \u001b[0m | \u001b[0m-1.887   \u001b[0m | \u001b[0m0.1062   \u001b[0m |\n",
      "| \u001b[0m21       \u001b[0m | \u001b[0m-1.516   \u001b[0m | \u001b[0m0.02912  \u001b[0m |\n",
      "| \u001b[0m22       \u001b[0m | \u001b[0m-1.142   \u001b[0m | \u001b[0m0.07803  \u001b[0m |\n",
      "| \u001b[0m23       \u001b[0m | \u001b[0m-1.124   \u001b[0m | \u001b[0m0.02914  \u001b[0m |\n",
      "| \u001b[0m24       \u001b[0m | \u001b[0m-2.062   \u001b[0m | \u001b[0m0.01028  \u001b[0m |\n",
      "| \u001b[0m25       \u001b[0m | \u001b[0m-1.576   \u001b[0m | \u001b[0m0.02905  \u001b[0m |\n",
      "| \u001b[0m26       \u001b[0m | \u001b[0m-1.421   \u001b[0m | \u001b[0m0.02903  \u001b[0m |\n",
      "| \u001b[0m27       \u001b[0m | \u001b[0m-2.053   \u001b[0m | \u001b[0m0.02913  \u001b[0m |\n",
      "| \u001b[0m28       \u001b[0m | \u001b[0m-1.102   \u001b[0m | \u001b[0m0.07804  \u001b[0m |\n",
      "| \u001b[0m29       \u001b[0m | \u001b[0m-2.009   \u001b[0m | \u001b[0m0.07807  \u001b[0m |\n",
      "| \u001b[0m30       \u001b[0m | \u001b[0m-1.069   \u001b[0m | \u001b[0m0.02915  \u001b[0m |\n",
      "| \u001b[0m31       \u001b[0m | \u001b[0m-1.19    \u001b[0m | \u001b[0m0.0291   \u001b[0m |\n",
      "| \u001b[0m32       \u001b[0m | \u001b[0m-0.9568  \u001b[0m | \u001b[0m0.02917  \u001b[0m |\n",
      "| \u001b[0m33       \u001b[0m | \u001b[0m-0.9495  \u001b[0m | \u001b[0m0.02922  \u001b[0m |\n",
      "| \u001b[0m34       \u001b[0m | \u001b[0m-0.9493  \u001b[0m | \u001b[0m0.02919  \u001b[0m |\n",
      "| \u001b[0m35       \u001b[0m | \u001b[0m-1.247   \u001b[0m | \u001b[0m0.02924  \u001b[0m |\n",
      "| \u001b[0m36       \u001b[0m | \u001b[0m-2.198   \u001b[0m | \u001b[0m0.0292   \u001b[0m |\n",
      "| \u001b[0m37       \u001b[0m | \u001b[0m-1.32    \u001b[0m | \u001b[0m0.02917  \u001b[0m |\n",
      "| \u001b[0m38       \u001b[0m | \u001b[0m-1.758   \u001b[0m | \u001b[0m0.1061   \u001b[0m |\n",
      "| \u001b[0m39       \u001b[0m | \u001b[0m-1.74    \u001b[0m | \u001b[0m0.02925  \u001b[0m |\n",
      "| \u001b[0m40       \u001b[0m | \u001b[0m-0.956   \u001b[0m | \u001b[0m0.02922  \u001b[0m |\n",
      "| \u001b[0m41       \u001b[0m | \u001b[0m-1.424   \u001b[0m | \u001b[0m0.02899  \u001b[0m |\n",
      "| \u001b[0m42       \u001b[0m | \u001b[0m-1.129   \u001b[0m | \u001b[0m0.0526   \u001b[0m |\n",
      "| \u001b[0m43       \u001b[0m | \u001b[0m-1.269   \u001b[0m | \u001b[0m0.05259  \u001b[0m |\n",
      "| \u001b[0m44       \u001b[0m | \u001b[0m-1.357   \u001b[0m | \u001b[0m0.05258  \u001b[0m |\n",
      "| \u001b[0m45       \u001b[0m | \u001b[0m-1.538   \u001b[0m | \u001b[0m0.02895  \u001b[0m |\n",
      "=====================================\n",
      "Best alpha: 0.0103\n",
      "Best metric: 0.9263\n"
     ]
    }
   ],
   "source": [
    "\n",
    "\n",
    "# Define your objective function\n",
    "def objective_function(alpha):\n",
    "    #model\n",
    "    model = SparsediversityAutoencoder(input_size, hidden_size, 1, 1)\n",
    "    model = model.float()\n",
    "\n",
    "    # Define the loss function and optimizer\n",
    "    criterion = nn.L1Loss()\n",
    "    optimizer = torch.optim.Adam(model.parameters(), lr=1e-3)\n",
    "\n",
    "    b=[]\n",
    "    l=[]\n",
    "    l1=[]\n",
    "    # Train the model\n",
    "    for epoch in range(3000):\n",
    "        # Forward pass\n",
    "        #random_features1s = np.array(random.sample(features1s.tolist(), 1000))\n",
    "        #random_features1s = torch.from_numpy(random_features1s).float()\n",
    "        \n",
    "        #random_T_w_velo_gt1s = np.array(random.sample(T_w_velo_gt1s.tolist(), 1000))\n",
    "        #random_T_w_velo_gt1s = torch.from_numpy(random_T_w_velo_gt1s).float()\n",
    "        #print(random_T_w_velo_gt1s.shape)\n",
    "        encoded, outputs, sparsity_penalty, diversity_penalty = model(features1s)\n",
    "        loss = criterion(outputs, features1s)#  + diversity_penalty + sparsity_penalty\n",
    "        loss1 = criterion(encoded, T_w_velo_gt1s)\n",
    "        Bloss = alpha*loss +(1-alpha)*loss1 \n",
    "        #if(epoch%100==0):\n",
    "        #    print(f'Epoch {epoch}: Loss {Bloss.item():.4f}')\n",
    "        #    print(f'Epoch {epoch}: Loss {loss.item():.4f}')\n",
    "        #    print(f'Epoch {epoch}: Loss {loss1.item():.4f}')\n",
    "        #    print('----------------------------------')\n",
    "        b.append(Bloss.detach().numpy())\n",
    "        l.append(loss.detach().numpy())\n",
    "        l1.append(loss1.detach().numpy())\n",
    "        # Backward and optimize\n",
    "        optimizer.zero_grad()\n",
    "        loss.backward(retain_graph=True)\n",
    "        loss1.backward(retain_graph=True)\n",
    "        Bloss.backward()\n",
    "        optimizer.step()\n",
    "    return -Bloss.item()  # Negative since BayesianOptimization aims to maximize\n",
    "\n",
    "# Define the search space (range of alpha values to explore)\n",
    "alpha_bounds = (0, 0.5)  # Example bounds for alpha values\n",
    "\n",
    "# Set up the Bayesian optimizer\n",
    "optimizer = BayesianOptimization(\n",
    "    f=objective_function,\n",
    "    pbounds={'alpha': alpha_bounds},\n",
    "    random_state=42,\n",
    "    allow_duplicate_points=True\n",
    ")\n",
    "\n",
    "# Run the optimization loop\n",
    "optimizer.maximize(\n",
    "    init_points=15,  # Number of randomly chosen points to start with\n",
    "    n_iter=30,      # Number of iterations to perform\n",
    ")\n",
    "\n",
    "# Retrieve the best alpha value and the corresponding maximum performance metric\n",
    "best_alpha = optimizer.max['params']['alpha']\n",
    "best_metric = -optimizer.max['target']  # Convert back to positive value\n",
    "\n",
    "print(f\"Best alpha: {best_alpha:.4f}\")\n",
    "print(f\"Best metric: {best_metric:.4f}\")\n"
   ]
  },
  {
   "cell_type": "code",
   "execution_count": 99,
   "id": "44a43593",
   "metadata": {},
   "outputs": [],
   "source": [
    "target = []\n",
    "alphaa = []\n",
    "for element in optimizer.res:\n",
    "    target.append(-element['target'])\n",
    "    alphaa.append(element['params']['alpha'])"
   ]
  },
  {
   "cell_type": "code",
   "execution_count": 100,
   "id": "17dfcce6",
   "metadata": {},
   "outputs": [
    {
     "data": {
      "text/plain": [
       "Text(0.5, 0, 'alpha value')"
      ]
     },
     "execution_count": 100,
     "metadata": {},
     "output_type": "execute_result"
    },
    {
     "data": {
      "image/png": "[encoded data removed]",
      "text/plain": [
       "<Figure size 432x288 with 1 Axes>"
      ]
     },
     "metadata": {
      "needs_background": "light"
     },
     "output_type": "display_data"
    }
   ],
   "source": [
    "plt.scatter(alphaa,target)\n",
    "plt.ylabel('Overall Loss')\n",
    "plt.xlabel('alpha value')"
   ]
  },
  {
   "cell_type": "code",
   "execution_count": 102,
   "id": "e94133ce",
   "metadata": {},
   "outputs": [
    {
     "name": "stdout",
     "output_type": "stream",
     "text": [
      "Epoch 0: Loss 33.6200\n",
      "Epoch 0: Loss 267.9672\n",
      "Epoch 0: Loss 31.2529\n",
      "----------------------------------\n",
      "Epoch 100: Loss 3.9600\n",
      "Epoch 100: Loss 239.0862\n",
      "Epoch 100: Loss 1.5849\n",
      "----------------------------------\n",
      "Epoch 200: Loss 3.7448\n",
      "Epoch 200: Loss 218.8895\n",
      "Epoch 200: Loss 1.5717\n",
      "----------------------------------\n",
      "Epoch 300: Loss 3.5234\n",
      "Epoch 300: Loss 198.6152\n",
      "Epoch 300: Loss 1.5528\n",
      "----------------------------------\n",
      "Epoch 400: Loss 3.3009\n",
      "Epoch 400: Loss 178.3275\n",
      "Epoch 400: Loss 1.5330\n",
      "----------------------------------\n",
      "Epoch 500: Loss 3.1028\n",
      "Epoch 500: Loss 161.3513\n",
      "Epoch 500: Loss 1.5043\n",
      "----------------------------------\n",
      "Epoch 600: Loss 2.9111\n",
      "Epoch 600: Loss 145.0722\n",
      "Epoch 600: Loss 1.4752\n",
      "----------------------------------\n",
      "Epoch 700: Loss 2.7185\n",
      "Epoch 700: Loss 128.7788\n",
      "Epoch 700: Loss 1.4452\n",
      "----------------------------------\n",
      "Epoch 800: Loss 2.5249\n",
      "Epoch 800: Loss 112.4750\n",
      "Epoch 800: Loss 1.4143\n",
      "----------------------------------\n",
      "Epoch 900: Loss 2.3306\n",
      "Epoch 900: Loss 96.1649\n",
      "Epoch 900: Loss 1.3828\n",
      "----------------------------------\n",
      "Epoch 1000: Loss 2.1358\n",
      "Epoch 1000: Loss 79.8520\n",
      "Epoch 1000: Loss 1.3508\n",
      "----------------------------------\n",
      "Epoch 1100: Loss 1.9412\n",
      "Epoch 1100: Loss 63.5521\n",
      "Epoch 1100: Loss 1.3189\n",
      "----------------------------------\n",
      "Epoch 1200: Loss 1.7471\n",
      "Epoch 1200: Loss 47.3655\n",
      "Epoch 1200: Loss 1.2863\n",
      "----------------------------------\n",
      "Epoch 1300: Loss 1.5415\n",
      "Epoch 1300: Loss 32.8136\n",
      "Epoch 1300: Loss 1.2257\n",
      "----------------------------------\n",
      "Epoch 1400: Loss 1.4056\n",
      "Epoch 1400: Loss 24.5282\n",
      "Epoch 1400: Loss 1.1720\n",
      "----------------------------------\n",
      "Epoch 1500: Loss 1.2824\n",
      "Epoch 1500: Loss 16.4920\n",
      "Epoch 1500: Loss 1.1288\n",
      "----------------------------------\n",
      "Epoch 1600: Loss 1.1779\n",
      "Epoch 1600: Loss 10.8944\n",
      "Epoch 1600: Loss 1.0798\n",
      "----------------------------------\n",
      "Epoch 1700: Loss 1.1005\n",
      "Epoch 1700: Loss 6.8950\n",
      "Epoch 1700: Loss 1.0420\n",
      "----------------------------------\n",
      "Epoch 1800: Loss 1.0336\n",
      "Epoch 1800: Loss 4.0381\n",
      "Epoch 1800: Loss 1.0032\n",
      "----------------------------------\n",
      "Epoch 1900: Loss 0.9999\n",
      "Epoch 1900: Loss 4.0083\n",
      "Epoch 1900: Loss 0.9695\n",
      "----------------------------------\n",
      "Epoch 2000: Loss 0.9711\n",
      "Epoch 2000: Loss 3.9935\n",
      "Epoch 2000: Loss 0.9405\n",
      "----------------------------------\n",
      "Epoch 2100: Loss 0.9475\n",
      "Epoch 2100: Loss 3.9800\n",
      "Epoch 2100: Loss 0.9169\n",
      "----------------------------------\n",
      "Epoch 2200: Loss 0.9288\n",
      "Epoch 2200: Loss 3.9678\n",
      "Epoch 2200: Loss 0.8981\n",
      "----------------------------------\n",
      "Epoch 2300: Loss 0.9171\n",
      "Epoch 2300: Loss 3.9589\n",
      "Epoch 2300: Loss 0.8864\n",
      "----------------------------------\n",
      "Epoch 2400: Loss 0.9080\n",
      "Epoch 2400: Loss 3.9507\n",
      "Epoch 2400: Loss 0.8772\n",
      "----------------------------------\n",
      "Epoch 2500: Loss 0.9023\n",
      "Epoch 2500: Loss 3.9444\n",
      "Epoch 2500: Loss 0.8716\n",
      "----------------------------------\n",
      "Epoch 2600: Loss 0.8984\n",
      "Epoch 2600: Loss 3.9390\n",
      "Epoch 2600: Loss 0.8677\n",
      "----------------------------------\n",
      "Epoch 2700: Loss 0.8960\n",
      "Epoch 2700: Loss 3.9349\n",
      "Epoch 2700: Loss 0.8653\n",
      "----------------------------------\n",
      "Epoch 2800: Loss 0.8943\n",
      "Epoch 2800: Loss 3.9314\n",
      "Epoch 2800: Loss 0.8636\n",
      "----------------------------------\n",
      "Epoch 2900: Loss 0.8930\n",
      "Epoch 2900: Loss 3.9282\n",
      "Epoch 2900: Loss 0.8624\n",
      "----------------------------------\n"
     ]
    }
   ],
   "source": [
    "#model\n",
    "model = SparsediversityAutoencoder(input_size, hidden_size, 1, 1)\n",
    "model = model.float()\n",
    "\n",
    "# Define the loss function and optimizer\n",
    "criterion = nn.L1Loss()\n",
    "optimizer = torch.optim.Adam(model.parameters(), lr=1e-3)\n",
    "\n",
    "b=[]\n",
    "l=[]\n",
    "l1=[]\n",
    "alpha = 0.01\n",
    "# Train the model\n",
    "for epoch in range(3000):\n",
    "    # Forward pass\n",
    "    encoded, outputs, sparsity_penalty, diversity_penalty = model(features1s)\n",
    "    loss = criterion(outputs, features1s)#  + diversity_penalty + sparsity_penalty\n",
    "    loss1 = criterion(encoded, T_w_velo_gt1s)\n",
    "    Bloss = alpha*loss +(1-alpha)*loss1 \n",
    "    if(epoch%100==0):\n",
    "        print(f'Epoch {epoch}: Loss {Bloss.item():.4f}')\n",
    "        print(f'Epoch {epoch}: Loss {loss.item():.4f}')\n",
    "        print(f'Epoch {epoch}: Loss {loss1.item():.4f}')\n",
    "        print('----------------------------------')\n",
    "    b.append(Bloss.detach().numpy())\n",
    "    l.append(loss.detach().numpy())\n",
    "    l1.append(loss1.detach().numpy())\n",
    "    # Backward and optimize\n",
    "    optimizer.zero_grad()\n",
    "    loss.backward(retain_graph=True)\n",
    "    loss1.backward(retain_graph=True)\n",
    "    Bloss.backward()\n",
    "    optimizer.step()"
   ]
  },
  {
   "cell_type": "code",
   "execution_count": 103,
   "id": "84ef5359",
   "metadata": {},
   "outputs": [
    {
     "data": {
      "image/png": "[encoded data removed]",
      "text/plain": [
       "<Figure size 432x288 with 1 Axes>"
      ]
     },
     "metadata": {
      "needs_background": "light"
     },
     "output_type": "display_data"
    }
   ],
   "source": [
    "plot_training_error(l, l1, b)"
   ]
  },
  {
   "cell_type": "code",
   "execution_count": 198,
   "id": "363e083e",
   "metadata": {},
   "outputs": [
    {
     "data": {
      "application/vnd.jupyter.widget-view+json": {
       "model_id": "f304cb784f854775800948f5937d940f",
       "version_major": 2,
       "version_minor": 0
      },
      "text/plain": [
       "  0%|          | 0/5177 [00:00<?, ?it/s]"
      ]
     },
     "metadata": {},
     "output_type": "display_data"
    }
   ],
   "source": [
    "sequence ,T_w_velo, T_w_velo_gt = handling_data(os.path.join(file,seque[4]),seq,date[4],drive[4])\n",
    "T_w_velo_gt = util.ht2xyp(T_w_velo_gt)\n",
    "T_w_velo_gt = T_w_velo_gt[:,:2]\n",
    "n = len(sequence.poses)\n",
    "features = features_extraction_Kitti(n,sequence,T_w_velo,5,'fkm')"
   ]
  },
  {
   "cell_type": "code",
   "execution_count": 104,
   "id": "efd40225",
   "metadata": {},
   "outputs": [],
   "source": [
    "file1='/home/anas/Desktop/PHD/my essai/Kitti dataset/City/KITTI2' #[Residence, Campus-8, Person-8, Road, City]\n",
    "seq = 13\n",
    "datee ='2011_09_26'\n",
    "drivee='0009'"
   ]
  },
  {
   "cell_type": "code",
   "execution_count": 105,
   "id": "4280c8a9",
   "metadata": {},
   "outputs": [
    {
     "data": {
      "application/vnd.jupyter.widget-view+json": {
       "model_id": "57c4e7f706ad40b2b99366ab2afa2bbe",
       "version_major": 2,
       "version_minor": 0
      },
      "text/plain": [
       "  0%|          | 0/443 [00:00<?, ?it/s]"
      ]
     },
     "metadata": {},
     "output_type": "display_data"
    }
   ],
   "source": [
    "sequence ,T_w_velo, T_w_velo_gt = handling_data(file1,seq,datee,drivee)\n",
    "T_w_velo_gt = util.ht2xyp(T_w_velo_gt)\n",
    "T_w_velo_gt = T_w_velo_gt[:,:2]\n",
    "n = len(sequence.poses)-4\n",
    "features = features_extraction_Kitti(n,sequence,T_w_velo,5,'fkm')"
   ]
  },
  {
   "cell_type": "code",
   "execution_count": 106,
   "id": "24594422",
   "metadata": {},
   "outputs": [],
   "source": [
    "features1 = np.mean(features[:], axis = 1)\n",
    "features = np.concatenate((features, np.expand_dims(features1 , axis=1)), axis=1)"
   ]
  },
  {
   "cell_type": "code",
   "execution_count": 107,
   "id": "fb6488ce",
   "metadata": {},
   "outputs": [],
   "source": [
    "features = np.transpose(features,axes=(0,2,1))[:,:2,:]\n",
    "features = torch.from_numpy(features).float()\n",
    "T_w_velo_gt = np.expand_dims(T_w_velo_gt, axis = -1)\n",
    "T_w_velo_gt = torch.from_numpy(T_w_velo_gt).float()"
   ]
  },
  {
   "cell_type": "code",
   "execution_count": 108,
   "id": "067a1613",
   "metadata": {},
   "outputs": [],
   "source": [
    "# Put the model in evaluation mode\n",
    "model.eval()\n",
    "\n",
    "# Make a prediction for the given inputs\n",
    "with torch.no_grad():\n",
    "    outputs = model.encoder(features)\n",
    "\n",
    "# Convert the outputs tensor to a numpy array for further processing\n",
    "predictions = outputs.detach().numpy()\n"
   ]
  },
  {
   "cell_type": "code",
   "execution_count": 109,
   "id": "c2e8d957",
   "metadata": {},
   "outputs": [
    {
     "data": {
      "text/plain": [
       "0.5404165387153625"
      ]
     },
     "execution_count": 109,
     "metadata": {},
     "output_type": "execute_result"
    }
   ],
   "source": [
    "criterion(outputs,T_w_velo_gt[:n]).item()"
   ]
  },
  {
   "cell_type": "code",
   "execution_count": 110,
   "id": "9c34ce6f",
   "metadata": {},
   "outputs": [
    {
     "data": {
      "text/plain": [
       "0.5404165387153625"
      ]
     },
     "execution_count": 110,
     "metadata": {},
     "output_type": "execute_result"
    }
   ],
   "source": [
    "F.l1_loss(outputs,T_w_velo_gt[:n]).item()"
   ]
  },
  {
   "cell_type": "code",
   "execution_count": 111,
   "id": "63b9117c",
   "metadata": {},
   "outputs": [
    {
     "data": {
      "text/plain": [
       "<matplotlib.legend.Legend at 0x7f4c3c6f78b0>"
      ]
     },
     "execution_count": 111,
     "metadata": {},
     "output_type": "execute_result"
    },
    {
     "data": {
      "image/png": "[encoded data removed]",
      "text/plain": [
       "<Figure size 432x288 with 1 Axes>"
      ]
     },
     "metadata": {
      "needs_background": "light"
     },
     "output_type": "display_data"
    }
   ],
   "source": [
    "plt.scatter(T_w_velo_gt.detach().numpy().squeeze()[:,0], T_w_velo_gt.detach().numpy().squeeze()[:,1],0.1)\n",
    "plt.plot(outputs.detach().numpy().squeeze()[:,0], outputs.detach().numpy().squeeze()[:,1],0.1)\n",
    "plt.xlabel('x-coordinate')\n",
    "plt.ylabel('y-coordinate')\n",
    "plt.legend(['True position', 'predicted positions'])"
   ]
  },
  {
   "cell_type": "code",
   "execution_count": null,
   "id": "e2be866f",
   "metadata": {},
   "outputs": [],
   "source": []
  }
 ],
 "metadata": {
  "kernelspec": {
   "display_name": "Python 3 (ipykernel)",
   "language": "python",
   "name": "python3"
  },
  "language_info": {
   "codemirror_mode": {
    "name": "ipython",
    "version": 3
   },
   "file_extension": ".py",
   "mimetype": "text/x-python",
   "name": "python",
   "nbconvert_exporter": "python",
   "pygments_lexer": "ipython3",
   "version": "3.10.12"
  }
 },
 "nbformat": 4,
 "nbformat_minor": 5
}
